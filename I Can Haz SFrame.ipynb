{
 "cells": [
  {
   "cell_type": "code",
   "execution_count": 5,
   "id": "4ba1cd02",
   "metadata": {},
   "outputs": [],
   "source": [
    "import turicreate as tc"
   ]
  },
  {
   "cell_type": "code",
   "execution_count": 9,
   "id": "4156acd5",
   "metadata": {},
   "outputs": [
    {
     "data": {
      "text/html": [
       "<pre>Parsing JSON records from /home/christine/Proj/UC/data/png_dataframe.json</pre>"
      ],
      "text/plain": [
       "Parsing JSON records from /home/christine/Proj/UC/data/png_dataframe.json"
      ]
     },
     "metadata": {},
     "output_type": "display_data"
    },
    {
     "data": {
      "text/html": [
       "<pre>Successfully parsed 11276 elements from the JSON file /home/christine/Proj/UC/data/png_dataframe.json</pre>"
      ],
      "text/plain": [
       "Successfully parsed 11276 elements from the JSON file /home/christine/Proj/UC/data/png_dataframe.json"
      ]
     },
     "metadata": {},
     "output_type": "display_data"
    }
   ],
   "source": [
    "data = tc.SFrame.read_json('./data/png_dataframe.json', orient='records')"
   ]
  },
  {
   "cell_type": "code",
   "execution_count": 10,
   "id": "01eabd90",
   "metadata": {},
   "outputs": [],
   "source": [
    "images = tc.image_analysis.load_images('./data/uc_images/', with_path=True)\n"
   ]
  },
  {
   "cell_type": "code",
   "execution_count": 13,
   "id": "e4afe034",
   "metadata": {},
   "outputs": [],
   "source": [
    "data['image'] = images['image']"
   ]
  },
  {
   "cell_type": "code",
   "execution_count": 14,
   "id": "cd0384f8",
   "metadata": {},
   "outputs": [
    {
     "data": {
      "text/html": [
       "<div style=\"max-height:1000px;max-width:1500px;overflow:auto;\"><table frame=\"box\" rules=\"cols\">\n",
       "    <tr>\n",
       "        <th style=\"padding-left: 1em; padding-right: 1em; text-align: center\">image_path</th>\n",
       "        <th style=\"padding-left: 1em; padding-right: 1em; text-align: center\">mayo_score</th>\n",
       "        <th style=\"padding-left: 1em; padding-right: 1em; text-align: center\">patient_number</th>\n",
       "        <th style=\"padding-left: 1em; padding-right: 1em; text-align: center\">image</th>\n",
       "    </tr>\n",
       "    <tr>\n",
       "        <td style=\"padding-left: 1em; padding-right: 1em; text-align: center; vertical-align: top\">./data/uc_images/00000.pn<br>g ...</td>\n",
       "        <td style=\"padding-left: 1em; padding-right: 1em; text-align: center; vertical-align: top\">Mayo 0</td>\n",
       "        <td style=\"padding-left: 1em; padding-right: 1em; text-align: center; vertical-align: top\">49</td>\n",
       "        <td style=\"padding-left: 1em; padding-right: 1em; text-align: center; vertical-align: top\">Height: 288 Width: 352</td>\n",
       "    </tr>\n",
       "    <tr>\n",
       "        <td style=\"padding-left: 1em; padding-right: 1em; text-align: center; vertical-align: top\">./data/uc_images/00001.pn<br>g ...</td>\n",
       "        <td style=\"padding-left: 1em; padding-right: 1em; text-align: center; vertical-align: top\">Mayo 0</td>\n",
       "        <td style=\"padding-left: 1em; padding-right: 1em; text-align: center; vertical-align: top\">49</td>\n",
       "        <td style=\"padding-left: 1em; padding-right: 1em; text-align: center; vertical-align: top\">Height: 288 Width: 352</td>\n",
       "    </tr>\n",
       "    <tr>\n",
       "        <td style=\"padding-left: 1em; padding-right: 1em; text-align: center; vertical-align: top\">./data/uc_images/00002.pn<br>g ...</td>\n",
       "        <td style=\"padding-left: 1em; padding-right: 1em; text-align: center; vertical-align: top\">Mayo 0</td>\n",
       "        <td style=\"padding-left: 1em; padding-right: 1em; text-align: center; vertical-align: top\">49</td>\n",
       "        <td style=\"padding-left: 1em; padding-right: 1em; text-align: center; vertical-align: top\">Height: 288 Width: 352</td>\n",
       "    </tr>\n",
       "    <tr>\n",
       "        <td style=\"padding-left: 1em; padding-right: 1em; text-align: center; vertical-align: top\">./data/uc_images/00003.pn<br>g ...</td>\n",
       "        <td style=\"padding-left: 1em; padding-right: 1em; text-align: center; vertical-align: top\">Mayo 0</td>\n",
       "        <td style=\"padding-left: 1em; padding-right: 1em; text-align: center; vertical-align: top\">49</td>\n",
       "        <td style=\"padding-left: 1em; padding-right: 1em; text-align: center; vertical-align: top\">Height: 288 Width: 352</td>\n",
       "    </tr>\n",
       "    <tr>\n",
       "        <td style=\"padding-left: 1em; padding-right: 1em; text-align: center; vertical-align: top\">./data/uc_images/00004.pn<br>g ...</td>\n",
       "        <td style=\"padding-left: 1em; padding-right: 1em; text-align: center; vertical-align: top\">Mayo 0</td>\n",
       "        <td style=\"padding-left: 1em; padding-right: 1em; text-align: center; vertical-align: top\">49</td>\n",
       "        <td style=\"padding-left: 1em; padding-right: 1em; text-align: center; vertical-align: top\">Height: 288 Width: 352</td>\n",
       "    </tr>\n",
       "    <tr>\n",
       "        <td style=\"padding-left: 1em; padding-right: 1em; text-align: center; vertical-align: top\">./data/uc_images/00005.pn<br>g ...</td>\n",
       "        <td style=\"padding-left: 1em; padding-right: 1em; text-align: center; vertical-align: top\">Mayo 0</td>\n",
       "        <td style=\"padding-left: 1em; padding-right: 1em; text-align: center; vertical-align: top\">49</td>\n",
       "        <td style=\"padding-left: 1em; padding-right: 1em; text-align: center; vertical-align: top\">Height: 288 Width: 352</td>\n",
       "    </tr>\n",
       "    <tr>\n",
       "        <td style=\"padding-left: 1em; padding-right: 1em; text-align: center; vertical-align: top\">./data/uc_images/00006.pn<br>g ...</td>\n",
       "        <td style=\"padding-left: 1em; padding-right: 1em; text-align: center; vertical-align: top\">Mayo 0</td>\n",
       "        <td style=\"padding-left: 1em; padding-right: 1em; text-align: center; vertical-align: top\">49</td>\n",
       "        <td style=\"padding-left: 1em; padding-right: 1em; text-align: center; vertical-align: top\">Height: 288 Width: 352</td>\n",
       "    </tr>\n",
       "    <tr>\n",
       "        <td style=\"padding-left: 1em; padding-right: 1em; text-align: center; vertical-align: top\">./data/uc_images/00007.pn<br>g ...</td>\n",
       "        <td style=\"padding-left: 1em; padding-right: 1em; text-align: center; vertical-align: top\">Mayo 0</td>\n",
       "        <td style=\"padding-left: 1em; padding-right: 1em; text-align: center; vertical-align: top\">49</td>\n",
       "        <td style=\"padding-left: 1em; padding-right: 1em; text-align: center; vertical-align: top\">Height: 288 Width: 352</td>\n",
       "    </tr>\n",
       "    <tr>\n",
       "        <td style=\"padding-left: 1em; padding-right: 1em; text-align: center; vertical-align: top\">./data/uc_images/00008.pn<br>g ...</td>\n",
       "        <td style=\"padding-left: 1em; padding-right: 1em; text-align: center; vertical-align: top\">Mayo 0</td>\n",
       "        <td style=\"padding-left: 1em; padding-right: 1em; text-align: center; vertical-align: top\">49</td>\n",
       "        <td style=\"padding-left: 1em; padding-right: 1em; text-align: center; vertical-align: top\">Height: 288 Width: 352</td>\n",
       "    </tr>\n",
       "    <tr>\n",
       "        <td style=\"padding-left: 1em; padding-right: 1em; text-align: center; vertical-align: top\">./data/uc_images/00009.pn<br>g ...</td>\n",
       "        <td style=\"padding-left: 1em; padding-right: 1em; text-align: center; vertical-align: top\">Mayo 0</td>\n",
       "        <td style=\"padding-left: 1em; padding-right: 1em; text-align: center; vertical-align: top\">49</td>\n",
       "        <td style=\"padding-left: 1em; padding-right: 1em; text-align: center; vertical-align: top\">Height: 288 Width: 352</td>\n",
       "    </tr>\n",
       "</table>\n",
       "[11276 rows x 4 columns]<br/>Note: Only the head of the SFrame is printed.<br/>You can use print_rows(num_rows=m, num_columns=n) to print more rows and columns.\n",
       "</div>"
      ],
      "text/plain": [
       "Columns:\n",
       "\timage_path\tstr\n",
       "\tmayo_score\tstr\n",
       "\tpatient_number\tstr\n",
       "\timage\tImage\n",
       "\n",
       "Rows: 11276\n",
       "\n",
       "Data:\n",
       "+----------------------------+------------+----------------+\n",
       "|         image_path         | mayo_score | patient_number |\n",
       "+----------------------------+------------+----------------+\n",
       "| ./data/uc_images/00000.png |   Mayo 0   |       49       |\n",
       "| ./data/uc_images/00001.png |   Mayo 0   |       49       |\n",
       "| ./data/uc_images/00002.png |   Mayo 0   |       49       |\n",
       "| ./data/uc_images/00003.png |   Mayo 0   |       49       |\n",
       "| ./data/uc_images/00004.png |   Mayo 0   |       49       |\n",
       "| ./data/uc_images/00005.png |   Mayo 0   |       49       |\n",
       "| ./data/uc_images/00006.png |   Mayo 0   |       49       |\n",
       "| ./data/uc_images/00007.png |   Mayo 0   |       49       |\n",
       "| ./data/uc_images/00008.png |   Mayo 0   |       49       |\n",
       "| ./data/uc_images/00009.png |   Mayo 0   |       49       |\n",
       "+----------------------------+------------+----------------+\n",
       "+------------------------+\n",
       "|         image          |\n",
       "+------------------------+\n",
       "| Height: 288 Width: 352 |\n",
       "| Height: 288 Width: 352 |\n",
       "| Height: 288 Width: 352 |\n",
       "| Height: 288 Width: 352 |\n",
       "| Height: 288 Width: 352 |\n",
       "| Height: 288 Width: 352 |\n",
       "| Height: 288 Width: 352 |\n",
       "| Height: 288 Width: 352 |\n",
       "| Height: 288 Width: 352 |\n",
       "| Height: 288 Width: 352 |\n",
       "+------------------------+\n",
       "[11276 rows x 4 columns]\n",
       "Note: Only the head of the SFrame is printed.\n",
       "You can use print_rows(num_rows=m, num_columns=n) to print more rows and columns."
      ]
     },
     "execution_count": 14,
     "metadata": {},
     "output_type": "execute_result"
    }
   ],
   "source": [
    "data"
   ]
  },
  {
   "cell_type": "code",
   "execution_count": 16,
   "id": "59de1016",
   "metadata": {},
   "outputs": [],
   "source": [
    "data.save('./data/uc_sframe')"
   ]
  },
  {
   "cell_type": "code",
   "execution_count": null,
   "id": "20f7eb52",
   "metadata": {},
   "outputs": [],
   "source": []
  }
 ],
 "metadata": {
  "kernelspec": {
   "display_name": "Python 3 (ipykernel)",
   "language": "python",
   "name": "python3"
  },
  "language_info": {
   "codemirror_mode": {
    "name": "ipython",
    "version": 3
   },
   "file_extension": ".py",
   "mimetype": "text/x-python",
   "name": "python",
   "nbconvert_exporter": "python",
   "pygments_lexer": "ipython3",
   "version": "3.8.10"
  }
 },
 "nbformat": 4,
 "nbformat_minor": 5
}
